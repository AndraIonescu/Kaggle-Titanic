{
 "cells": [
  {
   "cell_type": "markdown",
   "metadata": {
    "_uuid": "d3fd8b7c485397aa8b19029b86d73046033a6724"
   },
   "source": [
    "Original kernel: https://www.kaggle.com/pavlofesenko/shortest-titanic-kernel-0-78468"
   ]
  },
  {
   "cell_type": "code",
   "execution_count": 1,
   "metadata": {
    "_uuid": "dfd630e34080e432119688299187186f8ef69fe5"
   },
   "outputs": [
    {
     "name": "stderr",
     "output_type": "stream",
     "text": [
      "/opt/conda/lib/python3.6/site-packages/ipykernel_launcher.py:1: FutureWarning: Sorting because non-concatenation axis is not aligned. A future version\n",
      "of pandas will change to not sort by default.\n",
      "\n",
      "To accept the future behavior, pass 'sort=False'.\n",
      "\n",
      "To retain the current behavior and silence the warning, pass 'sort=True'.\n",
      "\n",
      "  \"\"\"Entry point for launching an IPython kernel.\n",
      "/opt/conda/lib/python3.6/site-packages/sklearn/ensemble/forest.py:246: FutureWarning: The default value of n_estimators will change from 10 in version 0.20 to 100 in 0.22.\n",
      "  \"10 in version 0.20 to 100 in 0.22.\", FutureWarning)\n"
     ]
    }
   ],
   "source": [
    "import pandas as p,sklearn.ensemble as s;a=p.concat([p.read_csv(f\"../input/{f}.csv\").fillna(-1) for f in ['train','test']]);n=891;b=p.concat((p.get_dummies(a.select_dtypes('object')),a[['Age','Fare']]),axis=1);b={0:b.iloc[:n,:],1:b.iloc[n::,:]};p.concat((p.Series(range(n+1,1310),name='PassengerId'),p.Series(s.RandomForestClassifier().fit(b[0],a['Survived'].iloc[:891]).predict(b[1]).astype(int),name='Survived')),axis=1).to_csv('s.csv',index=False)"
   ]
  },
  {
   "cell_type": "code",
   "execution_count": 2,
   "metadata": {
    "_uuid": "0cb277cfded2e7df88f6cdc5f009965ca324cff0"
   },
   "outputs": [],
   "source": []
  }
 ],
 "metadata": {
  "kernelspec": {
   "display_name": "Python 3",
   "language": "python",
   "name": "python3"
  },
  "language_info": {
   "codemirror_mode": {
    "name": "ipython",
    "version": 3
   },
   "file_extension": ".py",
   "mimetype": "text/x-python",
   "name": "python",
   "nbconvert_exporter": "python",
   "pygments_lexer": "ipython3",
   "version": "3.6.6"
  }
 },
 "nbformat": 4,
 "nbformat_minor": 1
}
